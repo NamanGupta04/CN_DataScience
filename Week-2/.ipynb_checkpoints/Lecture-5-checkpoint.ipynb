{
 "cells": [
  {
   "cell_type": "markdown",
   "id": "a6d687ef",
   "metadata": {},
   "source": [
    "## Lecture-5 : More on Loops\n"
   ]
  },
  {
   "cell_type": "code",
   "execution_count": 1,
   "id": "758d852b",
   "metadata": {},
   "outputs": [
    {
     "name": "stdout",
     "output_type": "stream",
     "text": [
      "0 1 2 3 4 "
     ]
    }
   ],
   "source": [
    "for i in range(5):\n",
    "    print(i,end= ' ')"
   ]
  },
  {
   "cell_type": "code",
   "execution_count": null,
   "id": "87729cb5",
   "metadata": {},
   "outputs": [
    {
     "name": "stdout",
     "output_type": "stream",
     "text": [
      "10\n",
      "5 "
     ]
    }
   ],
   "source": [
    "## Read input as specified in the question.\n",
    "## Print output as specified in the question.\n",
    "x=int(input())\n",
    "i=1\n",
    "while i<=x:\n",
    "    n=(3*i+2)\n",
    "    if n%4==0:\n",
    "        continue\n",
    "    else:\n",
    "        print(n,end=\" \")\n",
    "        i+=1"
   ]
  },
  {
   "cell_type": "code",
   "execution_count": null,
   "id": "47ce2800",
   "metadata": {},
   "outputs": [],
   "source": []
  }
 ],
 "metadata": {
  "kernelspec": {
   "display_name": "Python 3 (ipykernel)",
   "language": "python",
   "name": "python3"
  },
  "language_info": {
   "codemirror_mode": {
    "name": "ipython",
    "version": 3
   },
   "file_extension": ".py",
   "mimetype": "text/x-python",
   "name": "python",
   "nbconvert_exporter": "python",
   "pygments_lexer": "ipython3",
   "version": "3.9.13"
  }
 },
 "nbformat": 4,
 "nbformat_minor": 5
}
