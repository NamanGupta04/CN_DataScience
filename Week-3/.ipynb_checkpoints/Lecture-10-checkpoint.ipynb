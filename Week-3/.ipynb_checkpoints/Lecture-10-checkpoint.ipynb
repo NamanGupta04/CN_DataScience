{
 "cells": [
  {
   "cell_type": "markdown",
   "id": "4f9f0198",
   "metadata": {},
   "source": [
    "### First 3 lines "
   ]
  },
  {
   "cell_type": "code",
   "execution_count": null,
   "id": "f3627ea3",
   "metadata": {},
   "outputs": [],
   "source": [
    "import csv\n",
    "with open('year2017.csv') as file_:\n",
    "    file_name=csv.reader(file_)\n",
    "    file_name=list(file_name)\n",
    "    for i in range(1,4):\n",
    "        for j in file_name[i]:\n",
    "            print(j,end=' ')\n",
    "        print()"
   ]
  },
  {
   "cell_type": "markdown",
   "id": "4151ae74",
   "metadata": {},
   "source": [
    "### Print all column names"
   ]
  },
  {
   "cell_type": "code",
   "execution_count": null,
   "id": "0fb1923c",
   "metadata": {},
   "outputs": [],
   "source": [
    "import csv\n",
    "\n",
    "with open('year2017.csv') as my_csv:\n",
    "    data = csv.reader(my_csv)\n",
    "    l = list(data)\n",
    "    for i in l[0]:\n",
    "        print(i)"
   ]
  },
  {
   "cell_type": "markdown",
   "id": "13751d51",
   "metadata": {},
   "source": [
    "### Country Names "
   ]
  },
  {
   "cell_type": "code",
   "execution_count": null,
   "id": "9b7356c7",
   "metadata": {},
   "outputs": [],
   "source": [
    "import csv\n",
    "\n",
    "with open('year2017.csv') as my_csv:\n",
    "    data = csv.reader(my_csv)\n",
    "    data = list(data)\n",
    "    \n",
    "Country = []\n",
    "for row in data[1:11]:\n",
    "    Country.append(row[3])\n",
    "Country\n",
    "for i in Country:\n",
    "    print(i)"
   ]
  },
  {
   "cell_type": "markdown",
   "id": "a35b4aa4",
   "metadata": {},
   "source": [
    "### Total Wounded People "
   ]
  },
  {
   "cell_type": "code",
   "execution_count": null,
   "id": "5d484f67",
   "metadata": {},
   "outputs": [],
   "source": [
    "import csv\n",
    "\n",
    "with open('year2017.csv','r') as my_csv:\n",
    "    data = csv.reader(my_csv, skipinitialspace= True)\n",
    "    data = list(data)\n",
    "\n",
    "india_Wounded =[]\n",
    "\n",
    "for row in data[1:]:\n",
    "    val = row[3]\n",
    "    temp = row[10]\n",
    "    if( val== 'India' and temp !=''):\n",
    "        india_Wounded.append(float(temp))\n",
    "\n",
    "print(int(sum(india_Wounded)))"
   ]
  },
  {
   "cell_type": "markdown",
   "id": "b1d1e1cd",
   "metadata": {},
   "source": [
    "### Total Wounded from India "
   ]
  },
  {
   "cell_type": "code",
   "execution_count": null,
   "id": "5f49f277",
   "metadata": {},
   "outputs": [],
   "source": [
    "import csv\n",
    "\n",
    "with open('year2017.csv','r') as my_csv:\n",
    "    data = csv.reader(my_csv, skipinitialspace= True)\n",
    "    data = list(data)\n",
    "\n",
    "india_Wounded =[]\n",
    "\n",
    "for row in data[1:]:\n",
    "    val = row[3]  // country column\n",
    "    temp = row[10] // wounded column\n",
    "    if( val== 'India' and temp !=''):  // counting rows where country is India annd Wound count ids not empty\n",
    "        india_Wounded.append(float(temp)) // adding wound count in a list\n",
    "\n",
    "print(int(sum(india_Wounded))) // adding all the values in list and then converting them to integer value"
   ]
  },
  {
   "cell_type": "markdown",
   "id": "560484a9",
   "metadata": {},
   "source": [
    "### Casualties from Explosives "
   ]
  },
  {
   "cell_type": "code",
   "execution_count": null,
   "id": "f6e0dbff",
   "metadata": {},
   "outputs": [],
   "source": [
    "import csv\n",
    "\n",
    "with open('year2017.csv' ,'r') as file_obj:\n",
    "    file_data = csv.DictReader(file_obj, skipinitialspace = True)\n",
    "    lis = []\n",
    "    for row in file_data:\n",
    "        val = row['Weapon_type']\n",
    "        temp = row['casualities']\n",
    "        if(val == 'Explosives' and temp!=''):\n",
    "            lis.append(float(temp))\n",
    "print(int(sum(lis)))"
   ]
  },
  {
   "cell_type": "markdown",
   "id": "24b27031",
   "metadata": {},
   "source": [
    "### Month vs Killed "
   ]
  },
  {
   "cell_type": "code",
   "execution_count": null,
   "id": "009d7455",
   "metadata": {},
   "outputs": [],
   "source": [
    "import csv\n",
    "with open('year2017.csv') as file_obj:\n",
    "    file_data=csv.DictReader(file_obj,skipinitialspace=True)\n",
    "    \n",
    "    month_killed={}\n",
    "    for row in file_data:\n",
    "        key=row[\"Month\"]\n",
    "        value=row[\"Killed\"]\n",
    "        \n",
    "        if value!=\"\":\n",
    "            value=int(float(value))\n",
    "        else:\n",
    "            value=0\n",
    "            \n",
    "        if key in month_killed:\n",
    "            month_killed[key]+=value\n",
    "        else:\n",
    "            month_killed[key]=value\n",
    "            \n",
    "    for w in month_killed:\n",
    "        print(w,month_killed[w])"
   ]
  },
  {
   "cell_type": "markdown",
   "id": "d3175a26",
   "metadata": {},
   "source": [
    "### Country vs Casualties "
   ]
  },
  {
   "cell_type": "code",
   "execution_count": null,
   "id": "5e69eeb6",
   "metadata": {},
   "outputs": [],
   "source": [
    "import csv\n",
    "with open('year2017.csv') as file_obj:\n",
    "    file_data = csv.DictReader(file_obj,skipinitialspace = True)\n",
    "    \n",
    "    Country_casu = {}\n",
    "    \n",
    "    for row in file_data:\n",
    "        key = row['Country']\n",
    "        value = row['casualities']\n",
    "        \n",
    "        if value != \"\":\n",
    "            value = int(float(value))\n",
    "            \n",
    "        else:\n",
    "            value = 0\n",
    "            \n",
    "        if key in Country_casu:\n",
    "            Country_casu[key] +=value\n",
    "            \n",
    "        else:\n",
    "            Country_casu[key] = value\n",
    "            \n",
    "    for i in Country_casu:\n",
    "        print(i,Country_casu[i])"
   ]
  }
 ],
 "metadata": {
  "kernelspec": {
   "display_name": "Python 3 (ipykernel)",
   "language": "python",
   "name": "python3"
  },
  "language_info": {
   "codemirror_mode": {
    "name": "ipython",
    "version": 3
   },
   "file_extension": ".py",
   "mimetype": "text/x-python",
   "name": "python",
   "nbconvert_exporter": "python",
   "pygments_lexer": "ipython3",
   "version": "3.9.13"
  }
 },
 "nbformat": 4,
 "nbformat_minor": 5
}
