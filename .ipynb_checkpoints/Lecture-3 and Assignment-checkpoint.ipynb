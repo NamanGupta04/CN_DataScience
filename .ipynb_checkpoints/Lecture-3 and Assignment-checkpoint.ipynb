{
 "cells": [
  {
   "cell_type": "markdown",
   "id": "3b6d9c75",
   "metadata": {},
   "source": [
    "# Week-1: Lecture-3 Conditionals And Loops"
   ]
  },
  {
   "cell_type": "markdown",
   "id": "6d72e510",
   "metadata": {},
   "source": [
    "#### Q1. Given an integer n, find if n is positive, negative or 0.\n",
    "1. If n is positive, print \"Positive\"\n",
    "2. If n is negative, print \"Negative\"\n",
    "3. if n is equal to 0, print \"Zero\"."
   ]
  },
  {
   "cell_type": "code",
   "execution_count": 1,
   "id": "e56415f2",
   "metadata": {},
   "outputs": [
    {
     "name": "stdout",
     "output_type": "stream",
     "text": [
      "-9\n",
      "Negative\n"
     ]
    }
   ],
   "source": [
    "n = int(input())\n",
    "if n==0:\n",
    "    print(\"Zero\")\n",
    "elif n>0:\n",
    "    print(\"Positive\")\n",
    "else:\n",
    "    print(\"Negative\")"
   ]
  },
  {
   "cell_type": "markdown",
   "id": "a03bb442",
   "metadata": {},
   "source": [
    "#### Q2. Check whether a number is prime or not?"
   ]
  },
  {
   "cell_type": "code",
   "execution_count": 2,
   "id": "3c67d5d8",
   "metadata": {},
   "outputs": [
    {
     "name": "stdout",
     "output_type": "stream",
     "text": [
      "17\n",
      "Prime\n"
     ]
    }
   ],
   "source": [
    "n=int(input())\n",
    "d=2\n",
    "primality=0\n",
    "while d<n:\n",
    "    if n%d==0:\n",
    "        primality+=1\n",
    "    d+=1\n",
    "if primality==0:\n",
    "    print(\"Prime\")\n",
    "else:\n",
    "    print(\"Not Prime\")"
   ]
  },
  {
   "cell_type": "markdown",
   "id": "62551ee8",
   "metadata": {},
   "source": [
    "#### Q3. Given an integer n, find and print the sum of numbers from 1 to n."
   ]
  },
  {
   "cell_type": "code",
   "execution_count": 3,
   "id": "7dfb37fa",
   "metadata": {},
   "outputs": [
    {
     "name": "stdout",
     "output_type": "stream",
     "text": [
      "5\n",
      "15\n"
     ]
    }
   ],
   "source": [
    "n=int(input())\n",
    "sum=0\n",
    "i=1\n",
    "while i<=n:\n",
    "    sum=sum+i\n",
    "    i+=1\n",
    "print(sum)"
   ]
  },
  {
   "cell_type": "markdown",
   "id": "66707c99",
   "metadata": {},
   "source": [
    "####  Q4. Given a number N, print sum of all even numbers from 1 to N"
   ]
  },
  {
   "cell_type": "code",
   "execution_count": 4,
   "id": "b3945c1f",
   "metadata": {},
   "outputs": [
    {
     "name": "stdout",
     "output_type": "stream",
     "text": [
      "5\n",
      "6\n"
     ]
    }
   ],
   "source": [
    "n=int(input())\n",
    "Sum=0\n",
    "for i in range(0,n+1,2):\n",
    "    Sum=Sum+i\n",
    "print(Sum)"
   ]
  },
  {
   "cell_type": "markdown",
   "id": "982b6e32",
   "metadata": {},
   "source": [
    "#### Q5. Print Prime Numbers from 0 to n."
   ]
  },
  {
   "cell_type": "code",
   "execution_count": 9,
   "id": "fc62ca82",
   "metadata": {},
   "outputs": [
    {
     "name": "stdout",
     "output_type": "stream",
     "text": [
      "100\n",
      "2\n",
      "3\n",
      "5\n",
      "7\n",
      "11\n",
      "13\n",
      "17\n",
      "19\n",
      "23\n",
      "29\n",
      "31\n",
      "37\n",
      "41\n",
      "43\n",
      "47\n",
      "53\n",
      "59\n",
      "61\n",
      "67\n",
      "71\n",
      "73\n",
      "79\n",
      "83\n",
      "89\n",
      "97\n"
     ]
    }
   ],
   "source": [
    "n = int(input())\n",
    "k = 2\n",
    "while k <= n:\n",
    "    d = 2\n",
    "    primality=0\n",
    "    while d < k:\n",
    "        if (k % d == 0):\n",
    "            primality+=1\n",
    "        d = d + 1\n",
    "    if primality==0:\n",
    "        print(k)\n",
    "    k = k + 1\n",
    "    primality=0"
   ]
  },
  {
   "cell_type": "markdown",
   "id": "61c1f61a",
   "metadata": {},
   "source": [
    "#### Q6.Given three values - Start Fahrenheit Value (S), End Fahrenheit value (E) and Step Size (W), you need to convert all Fahrenheit values from Start to End at the gap of W, into their corresponding Celsius values and print the table"
   ]
  },
  {
   "cell_type": "code",
   "execution_count": 14,
   "id": "c4802705",
   "metadata": {},
   "outputs": [
    {
     "name": "stdout",
     "output_type": "stream",
     "text": [
      "273\n",
      "373\n",
      "10\n",
      "273 133\n",
      "283 139\n",
      "293 145\n",
      "303 150\n",
      "313 156\n",
      "323 161\n",
      "333 167\n",
      "343 172\n",
      "353 178\n",
      "363 183\n",
      "373 189\n"
     ]
    }
   ],
   "source": [
    "def FtoC(S,E,W):\n",
    "    for temp in range(S,E+1,W):\n",
    "        Cel = 5/9*(temp-32)\n",
    "        print(temp,end=\" \"),print(int(Cel))\n",
    "s=int(input())\n",
    "e=int(input())\n",
    "w=int(input())\n",
    "FtoC(s,e,w)"
   ]
  },
  {
   "cell_type": "markdown",
   "id": "825a9fb1",
   "metadata": {},
   "source": [
    "#### Q7. Write a program that performs the tasks of a simple calculator. The program should first take an integer as input and then based on that integer perform the task as given below.\n",
    "1. If the input is 1, then 2 integers are taken from the user and their sum is printed.\n",
    "2. If the input is 2, then 2 integers are taken from the user and their difference(1st number - 2nd number) is printed.\n",
    "3. If the input is 3, then 2 integers are taken from the user and their product is printed.\n",
    "4. If the input is 4, then 2 integers are taken from the user and the quotient obtained (on dividing 1st number by 2nd number) is printed.\n",
    "5. If the input is 5, then 2 integers are taken from the user and their remainder(1st number mod 2nd number) is printed.\n",
    "6. If the input is 6, then the program exits.\n",
    "7. For any other input, then print \"Invalid Operation\"."
   ]
  },
  {
   "cell_type": "code",
   "execution_count": null,
   "id": "3dc3c574",
   "metadata": {},
   "outputs": [
    {
     "name": "stdout",
     "output_type": "stream",
     "text": [
      "3\n",
      "2\n",
      "1\n",
      "2\n",
      "6\n"
     ]
    }
   ],
   "source": [
    "n= int(input())\n",
    "while n != 6:\n",
    "    if n <= 5 and n >= 1:\n",
    "        a = int(input())\n",
    "        b = int(input())\n",
    "    if n==1:\n",
    "        print(a + b)\n",
    "    if n==2:\n",
    "        print(a - b)\n",
    "    if n==3:\n",
    "        print(a * b)\n",
    "    if n==4:\n",
    "        print(a // b)\n",
    "    if n==5:\n",
    "        print(a % b)\n",
    "    elif n < 1 or n > 6:\n",
    "        print(\"Invalid Operation\")\n",
    "n=int(input())\n",
    "        "
   ]
  },
  {
   "cell_type": "code",
   "execution_count": null,
   "id": "a673b7f5",
   "metadata": {},
   "outputs": [],
   "source": []
  }
 ],
 "metadata": {
  "kernelspec": {
   "display_name": "Python 3 (ipykernel)",
   "language": "python",
   "name": "python3"
  },
  "language_info": {
   "codemirror_mode": {
    "name": "ipython",
    "version": 3
   },
   "file_extension": ".py",
   "mimetype": "text/x-python",
   "name": "python",
   "nbconvert_exporter": "python",
   "pygments_lexer": "ipython3",
   "version": "3.9.13"
  }
 },
 "nbformat": 4,
 "nbformat_minor": 5
}
