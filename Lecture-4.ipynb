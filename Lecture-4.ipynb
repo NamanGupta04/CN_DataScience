{
 "cells": [
  {
   "cell_type": "markdown",
   "id": "5335eb86",
   "metadata": {},
   "source": [
    "# Lecture-4 Patterns"
   ]
  },
  {
   "cell_type": "markdown",
   "id": "a4721607",
   "metadata": {},
   "source": [
    "### Pattern-1\n",
    "##### *\n",
    "##### **\n",
    "##### ***\n",
    "##### ****"
   ]
  },
  {
   "cell_type": "code",
   "execution_count": 2,
   "id": "eee9fd5b",
   "metadata": {},
   "outputs": [
    {
     "name": "stdout",
     "output_type": "stream",
     "text": [
      "4\n",
      "*\n",
      "**\n",
      "***\n",
      "****\n"
     ]
    }
   ],
   "source": [
    "N=int(input())\n",
    "i=1\n",
    "while i<=N:\n",
    "    j=1\n",
    "    while j<=i:\n",
    "        print(\"*\",end=\"\")\n",
    "        j+=1\n",
    "    print()\n",
    "    i+=1"
   ]
  },
  {
   "cell_type": "markdown",
   "id": "a5c957b2",
   "metadata": {},
   "source": [
    "### Pattern-2\n",
    "A\n",
    "BC\n",
    "CDE\n",
    "EFGH"
   ]
  },
  {
   "cell_type": "code",
   "execution_count": 4,
   "id": "ad30e085",
   "metadata": {},
   "outputs": [
    {
     "name": "stdout",
     "output_type": "stream",
     "text": [
      "4\n",
      "A\n",
      "BC\n",
      "CDE\n",
      "DEFG\n"
     ]
    }
   ],
   "source": [
    "N=int(input())\n",
    "i=1\n",
    "while i<=N:\n",
    "    j=1\n",
    "    start_char = chr(ord('A') + i - 1)\n",
    "    while j<=i:\n",
    "        AsciiTarget=ord(start_char)+j-1\n",
    "        print(chr(AsciiTarget),end=\"\")\n",
    "        j+=1\n",
    "    print()\n",
    "    i+=1"
   ]
  },
  {
   "cell_type": "markdown",
   "id": "e7804e71",
   "metadata": {},
   "source": [
    "### Pattern-3"
   ]
  },
  {
   "cell_type": "code",
   "execution_count": 5,
   "id": "90728e4e",
   "metadata": {},
   "outputs": [
    {
     "name": "stdout",
     "output_type": "stream",
     "text": [
      "4\n",
      "D\n",
      "CD\n",
      "BCD\n",
      "ABCD\n"
     ]
    }
   ],
   "source": [
    "n = int(input())\n",
    "i = n\n",
    "while i >= 1:\n",
    "    j = i\n",
    "    while j<=n:\n",
    "        print(chr(ord(\"A\")+j-1),end=\"\")\n",
    "        j = j + 1\n",
    "    print()\n",
    "    i = i - 1"
   ]
  },
  {
   "cell_type": "markdown",
   "id": "a89dd77f",
   "metadata": {},
   "source": [
    "### Pattern-4"
   ]
  },
  {
   "cell_type": "code",
   "execution_count": 6,
   "id": "756c63d6",
   "metadata": {},
   "outputs": [
    {
     "name": "stdout",
     "output_type": "stream",
     "text": [
      "4\n",
      "A\n",
      "BC\n",
      "CDE\n",
      "DEFG\n"
     ]
    }
   ],
   "source": [
    "n = int(input())\n",
    "i = 1\n",
    "while n>=i:\n",
    "    j = 1\n",
    "    start_char = chr(ord('A')+i-1)\n",
    "    while j<=i:\n",
    "        charP =chr(ord(start_char) +j-1)\n",
    "        print(charP,end='')\n",
    "        j = j+1\n",
    "    print()\n",
    "    i = i + 1"
   ]
  },
  {
   "cell_type": "code",
   "execution_count": null,
   "id": "70836af4",
   "metadata": {},
   "outputs": [],
   "source": []
  }
 ],
 "metadata": {
  "kernelspec": {
   "display_name": "Python 3 (ipykernel)",
   "language": "python",
   "name": "python3"
  },
  "language_info": {
   "codemirror_mode": {
    "name": "ipython",
    "version": 3
   },
   "file_extension": ".py",
   "mimetype": "text/x-python",
   "name": "python",
   "nbconvert_exporter": "python",
   "pygments_lexer": "ipython3",
   "version": "3.9.13"
  }
 },
 "nbformat": 4,
 "nbformat_minor": 5
}
